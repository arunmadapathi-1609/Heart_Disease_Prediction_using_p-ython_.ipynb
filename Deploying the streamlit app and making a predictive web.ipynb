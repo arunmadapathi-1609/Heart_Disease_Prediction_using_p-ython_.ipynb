{
  "nbformat": 4,
  "nbformat_minor": 0,
  "metadata": {
    "colab": {
      "provenance": [],
      "authorship_tag": "ABX9TyPXIFg4fpbhqK7suKuSuAT5",
      "include_colab_link": true
    },
    "kernelspec": {
      "name": "python3",
      "display_name": "Python 3"
    },
    "language_info": {
      "name": "python"
    }
  },
  "cells": [
    {
      "cell_type": "markdown",
      "metadata": {
        "id": "view-in-github",
        "colab_type": "text"
      },
      "source": [
        "<a href=\"https://colab.research.google.com/github/arunmadapathi-1609/Machine_Learning_Projects/blob/main/Deploying%20the%20streamlit%20app%20and%20making%20a%20predictive%20web.ipynb\" target=\"_parent\"><img src=\"https://colab.research.google.com/assets/colab-badge.svg\" alt=\"Open In Colab\"/></a>"
      ]
    },
    {
      "cell_type": "code",
      "execution_count": 1,
      "metadata": {
        "colab": {
          "base_uri": "https://localhost:8080/"
        },
        "id": "iGpT4CE4Oboz",
        "outputId": "318ab660-7601-4c63-feb8-b23b16601a4e"
      },
      "outputs": [
        {
          "output_type": "stream",
          "name": "stdout",
          "text": [
            "fatal: destination path 'multiple-disease-prediction-streamlit-app' already exists and is not an empty directory.\n"
          ]
        }
      ],
      "source": [
        "!git clone https://github.com/siddhardhan23/multiple-disease-prediction-streamlit-app"
      ]
    },
    {
      "cell_type": "code",
      "source": [
        "# installing the packages\n",
        "!pip install pyngrok==4.1.1\n",
        "!pip install  -r \"/content/multiple-disease-prediction-streamlit-app/requirements.txt\""
      ],
      "metadata": {
        "colab": {
          "base_uri": "https://localhost:8080/"
        },
        "id": "_jFYy3HFOlJv",
        "outputId": "42915933-680c-47ce-c6f1-2ba6d03aaa2a"
      },
      "execution_count": 2,
      "outputs": [
        {
          "output_type": "stream",
          "name": "stdout",
          "text": [
            "Collecting pyngrok==4.1.1\n",
            "  Using cached pyngrok-4.1.1-py3-none-any.whl\n",
            "Requirement already satisfied: future in /usr/local/lib/python3.12/dist-packages (from pyngrok==4.1.1) (1.0.0)\n",
            "Requirement already satisfied: PyYAML in /usr/local/lib/python3.12/dist-packages (from pyngrok==4.1.1) (6.0.2)\n",
            "Installing collected packages: pyngrok\n",
            "  Attempting uninstall: pyngrok\n",
            "    Found existing installation: pyngrok 7.3.0\n",
            "    Uninstalling pyngrok-7.3.0:\n",
            "      Successfully uninstalled pyngrok-7.3.0\n",
            "Successfully installed pyngrok-4.1.1\n",
            "Requirement already satisfied: numpy==1.26.3 in /usr/local/lib/python3.12/dist-packages (from -r /content/multiple-disease-prediction-streamlit-app/requirements.txt (line 1)) (1.26.3)\n",
            "Requirement already satisfied: scikit-learn==1.3.2 in /usr/local/lib/python3.12/dist-packages (from -r /content/multiple-disease-prediction-streamlit-app/requirements.txt (line 2)) (1.3.2)\n",
            "Requirement already satisfied: streamlit==1.29.0 in /usr/local/lib/python3.12/dist-packages (from -r /content/multiple-disease-prediction-streamlit-app/requirements.txt (line 3)) (1.29.0)\n",
            "Requirement already satisfied: streamlit-option-menu==0.3.6 in /usr/local/lib/python3.12/dist-packages (from -r /content/multiple-disease-prediction-streamlit-app/requirements.txt (line 4)) (0.3.6)\n",
            "Requirement already satisfied: scipy>=1.5.0 in /usr/local/lib/python3.12/dist-packages (from scikit-learn==1.3.2->-r /content/multiple-disease-prediction-streamlit-app/requirements.txt (line 2)) (1.16.1)\n",
            "Requirement already satisfied: joblib>=1.1.1 in /usr/local/lib/python3.12/dist-packages (from scikit-learn==1.3.2->-r /content/multiple-disease-prediction-streamlit-app/requirements.txt (line 2)) (1.5.1)\n",
            "Requirement already satisfied: threadpoolctl>=2.0.0 in /usr/local/lib/python3.12/dist-packages (from scikit-learn==1.3.2->-r /content/multiple-disease-prediction-streamlit-app/requirements.txt (line 2)) (3.6.0)\n",
            "Requirement already satisfied: altair<6,>=4.0 in /usr/local/lib/python3.12/dist-packages (from streamlit==1.29.0->-r /content/multiple-disease-prediction-streamlit-app/requirements.txt (line 3)) (5.5.0)\n",
            "Requirement already satisfied: blinker<2,>=1.0.0 in /usr/local/lib/python3.12/dist-packages (from streamlit==1.29.0->-r /content/multiple-disease-prediction-streamlit-app/requirements.txt (line 3)) (1.9.0)\n",
            "Requirement already satisfied: cachetools<6,>=4.0 in /usr/local/lib/python3.12/dist-packages (from streamlit==1.29.0->-r /content/multiple-disease-prediction-streamlit-app/requirements.txt (line 3)) (5.5.2)\n",
            "Requirement already satisfied: click<9,>=7.0 in /usr/local/lib/python3.12/dist-packages (from streamlit==1.29.0->-r /content/multiple-disease-prediction-streamlit-app/requirements.txt (line 3)) (8.2.1)\n",
            "Requirement already satisfied: importlib-metadata<7,>=1.4 in /usr/local/lib/python3.12/dist-packages (from streamlit==1.29.0->-r /content/multiple-disease-prediction-streamlit-app/requirements.txt (line 3)) (6.11.0)\n",
            "Requirement already satisfied: packaging<24,>=16.8 in /usr/local/lib/python3.12/dist-packages (from streamlit==1.29.0->-r /content/multiple-disease-prediction-streamlit-app/requirements.txt (line 3)) (23.2)\n",
            "Requirement already satisfied: pandas<3,>=1.3.0 in /usr/local/lib/python3.12/dist-packages (from streamlit==1.29.0->-r /content/multiple-disease-prediction-streamlit-app/requirements.txt (line 3)) (2.2.2)\n",
            "Requirement already satisfied: pillow<11,>=7.1.0 in /usr/local/lib/python3.12/dist-packages (from streamlit==1.29.0->-r /content/multiple-disease-prediction-streamlit-app/requirements.txt (line 3)) (10.4.0)\n",
            "Requirement already satisfied: protobuf<5,>=3.20 in /usr/local/lib/python3.12/dist-packages (from streamlit==1.29.0->-r /content/multiple-disease-prediction-streamlit-app/requirements.txt (line 3)) (4.25.8)\n",
            "Requirement already satisfied: pyarrow>=6.0 in /usr/local/lib/python3.12/dist-packages (from streamlit==1.29.0->-r /content/multiple-disease-prediction-streamlit-app/requirements.txt (line 3)) (18.1.0)\n",
            "Requirement already satisfied: python-dateutil<3,>=2.7.3 in /usr/local/lib/python3.12/dist-packages (from streamlit==1.29.0->-r /content/multiple-disease-prediction-streamlit-app/requirements.txt (line 3)) (2.9.0.post0)\n",
            "Requirement already satisfied: requests<3,>=2.27 in /usr/local/lib/python3.12/dist-packages (from streamlit==1.29.0->-r /content/multiple-disease-prediction-streamlit-app/requirements.txt (line 3)) (2.32.3)\n",
            "Requirement already satisfied: rich<14,>=10.14.0 in /usr/local/lib/python3.12/dist-packages (from streamlit==1.29.0->-r /content/multiple-disease-prediction-streamlit-app/requirements.txt (line 3)) (13.9.4)\n",
            "Requirement already satisfied: tenacity<9,>=8.1.0 in /usr/local/lib/python3.12/dist-packages (from streamlit==1.29.0->-r /content/multiple-disease-prediction-streamlit-app/requirements.txt (line 3)) (8.5.0)\n",
            "Requirement already satisfied: toml<2,>=0.10.1 in /usr/local/lib/python3.12/dist-packages (from streamlit==1.29.0->-r /content/multiple-disease-prediction-streamlit-app/requirements.txt (line 3)) (0.10.2)\n",
            "Requirement already satisfied: typing-extensions<5,>=4.3.0 in /usr/local/lib/python3.12/dist-packages (from streamlit==1.29.0->-r /content/multiple-disease-prediction-streamlit-app/requirements.txt (line 3)) (4.14.1)\n",
            "Requirement already satisfied: tzlocal<6,>=1.1 in /usr/local/lib/python3.12/dist-packages (from streamlit==1.29.0->-r /content/multiple-disease-prediction-streamlit-app/requirements.txt (line 3)) (5.3.1)\n",
            "Requirement already satisfied: validators<1,>=0.2 in /usr/local/lib/python3.12/dist-packages (from streamlit==1.29.0->-r /content/multiple-disease-prediction-streamlit-app/requirements.txt (line 3)) (0.35.0)\n",
            "Requirement already satisfied: gitpython!=3.1.19,<4,>=3.0.7 in /usr/local/lib/python3.12/dist-packages (from streamlit==1.29.0->-r /content/multiple-disease-prediction-streamlit-app/requirements.txt (line 3)) (3.1.45)\n",
            "Requirement already satisfied: pydeck<1,>=0.8.0b4 in /usr/local/lib/python3.12/dist-packages (from streamlit==1.29.0->-r /content/multiple-disease-prediction-streamlit-app/requirements.txt (line 3)) (0.9.1)\n",
            "Requirement already satisfied: tornado<7,>=6.0.3 in /usr/local/lib/python3.12/dist-packages (from streamlit==1.29.0->-r /content/multiple-disease-prediction-streamlit-app/requirements.txt (line 3)) (6.4.2)\n",
            "Requirement already satisfied: watchdog>=2.1.5 in /usr/local/lib/python3.12/dist-packages (from streamlit==1.29.0->-r /content/multiple-disease-prediction-streamlit-app/requirements.txt (line 3)) (6.0.0)\n",
            "Requirement already satisfied: jinja2 in /usr/local/lib/python3.12/dist-packages (from altair<6,>=4.0->streamlit==1.29.0->-r /content/multiple-disease-prediction-streamlit-app/requirements.txt (line 3)) (3.1.6)\n",
            "Requirement already satisfied: jsonschema>=3.0 in /usr/local/lib/python3.12/dist-packages (from altair<6,>=4.0->streamlit==1.29.0->-r /content/multiple-disease-prediction-streamlit-app/requirements.txt (line 3)) (4.25.0)\n",
            "Requirement already satisfied: narwhals>=1.14.2 in /usr/local/lib/python3.12/dist-packages (from altair<6,>=4.0->streamlit==1.29.0->-r /content/multiple-disease-prediction-streamlit-app/requirements.txt (line 3)) (2.1.1)\n",
            "Requirement already satisfied: gitdb<5,>=4.0.1 in /usr/local/lib/python3.12/dist-packages (from gitpython!=3.1.19,<4,>=3.0.7->streamlit==1.29.0->-r /content/multiple-disease-prediction-streamlit-app/requirements.txt (line 3)) (4.0.12)\n",
            "Requirement already satisfied: zipp>=0.5 in /usr/local/lib/python3.12/dist-packages (from importlib-metadata<7,>=1.4->streamlit==1.29.0->-r /content/multiple-disease-prediction-streamlit-app/requirements.txt (line 3)) (3.23.0)\n",
            "Requirement already satisfied: pytz>=2020.1 in /usr/local/lib/python3.12/dist-packages (from pandas<3,>=1.3.0->streamlit==1.29.0->-r /content/multiple-disease-prediction-streamlit-app/requirements.txt (line 3)) (2025.2)\n",
            "Requirement already satisfied: tzdata>=2022.7 in /usr/local/lib/python3.12/dist-packages (from pandas<3,>=1.3.0->streamlit==1.29.0->-r /content/multiple-disease-prediction-streamlit-app/requirements.txt (line 3)) (2025.2)\n",
            "Requirement already satisfied: six>=1.5 in /usr/local/lib/python3.12/dist-packages (from python-dateutil<3,>=2.7.3->streamlit==1.29.0->-r /content/multiple-disease-prediction-streamlit-app/requirements.txt (line 3)) (1.17.0)\n",
            "Requirement already satisfied: charset-normalizer<4,>=2 in /usr/local/lib/python3.12/dist-packages (from requests<3,>=2.27->streamlit==1.29.0->-r /content/multiple-disease-prediction-streamlit-app/requirements.txt (line 3)) (3.4.3)\n",
            "Requirement already satisfied: idna<4,>=2.5 in /usr/local/lib/python3.12/dist-packages (from requests<3,>=2.27->streamlit==1.29.0->-r /content/multiple-disease-prediction-streamlit-app/requirements.txt (line 3)) (3.10)\n",
            "Requirement already satisfied: urllib3<3,>=1.21.1 in /usr/local/lib/python3.12/dist-packages (from requests<3,>=2.27->streamlit==1.29.0->-r /content/multiple-disease-prediction-streamlit-app/requirements.txt (line 3)) (2.5.0)\n",
            "Requirement already satisfied: certifi>=2017.4.17 in /usr/local/lib/python3.12/dist-packages (from requests<3,>=2.27->streamlit==1.29.0->-r /content/multiple-disease-prediction-streamlit-app/requirements.txt (line 3)) (2025.8.3)\n",
            "Requirement already satisfied: markdown-it-py>=2.2.0 in /usr/local/lib/python3.12/dist-packages (from rich<14,>=10.14.0->streamlit==1.29.0->-r /content/multiple-disease-prediction-streamlit-app/requirements.txt (line 3)) (4.0.0)\n",
            "Requirement already satisfied: pygments<3.0.0,>=2.13.0 in /usr/local/lib/python3.12/dist-packages (from rich<14,>=10.14.0->streamlit==1.29.0->-r /content/multiple-disease-prediction-streamlit-app/requirements.txt (line 3)) (2.19.2)\n",
            "Requirement already satisfied: smmap<6,>=3.0.1 in /usr/local/lib/python3.12/dist-packages (from gitdb<5,>=4.0.1->gitpython!=3.1.19,<4,>=3.0.7->streamlit==1.29.0->-r /content/multiple-disease-prediction-streamlit-app/requirements.txt (line 3)) (5.0.2)\n",
            "Requirement already satisfied: MarkupSafe>=2.0 in /usr/local/lib/python3.12/dist-packages (from jinja2->altair<6,>=4.0->streamlit==1.29.0->-r /content/multiple-disease-prediction-streamlit-app/requirements.txt (line 3)) (3.0.2)\n",
            "Requirement already satisfied: attrs>=22.2.0 in /usr/local/lib/python3.12/dist-packages (from jsonschema>=3.0->altair<6,>=4.0->streamlit==1.29.0->-r /content/multiple-disease-prediction-streamlit-app/requirements.txt (line 3)) (25.3.0)\n",
            "Requirement already satisfied: jsonschema-specifications>=2023.03.6 in /usr/local/lib/python3.12/dist-packages (from jsonschema>=3.0->altair<6,>=4.0->streamlit==1.29.0->-r /content/multiple-disease-prediction-streamlit-app/requirements.txt (line 3)) (2025.4.1)\n",
            "Requirement already satisfied: referencing>=0.28.4 in /usr/local/lib/python3.12/dist-packages (from jsonschema>=3.0->altair<6,>=4.0->streamlit==1.29.0->-r /content/multiple-disease-prediction-streamlit-app/requirements.txt (line 3)) (0.36.2)\n",
            "Requirement already satisfied: rpds-py>=0.7.1 in /usr/local/lib/python3.12/dist-packages (from jsonschema>=3.0->altair<6,>=4.0->streamlit==1.29.0->-r /content/multiple-disease-prediction-streamlit-app/requirements.txt (line 3)) (0.27.0)\n",
            "Requirement already satisfied: mdurl~=0.1 in /usr/local/lib/python3.12/dist-packages (from markdown-it-py>=2.2.0->rich<14,>=10.14.0->streamlit==1.29.0->-r /content/multiple-disease-prediction-streamlit-app/requirements.txt (line 3)) (0.1.2)\n"
          ]
        }
      ]
    },
    {
      "cell_type": "code",
      "source": [
        "import os\n",
        "from threading import Thread\n",
        "from pyngrok import ngrok"
      ],
      "metadata": {
        "id": "mtuHcuLuO6dN"
      },
      "execution_count": 4,
      "outputs": []
    },
    {
      "cell_type": "code",
      "source": [
        "# add ngrok token here\n",
        "ngrok.set_auth_token('31Vw6lsZJpY0S5Dxxdt8ikMNxRi_6BdvYsQFjyDnPtfxvC6nx')"
      ],
      "metadata": {
        "colab": {
          "base_uri": "https://localhost:8080/"
        },
        "id": "wBRqxNp-PMxy",
        "outputId": "1c1702fd-d415-495e-93b0-9d640f6cad1b"
      },
      "execution_count": 5,
      "outputs": [
        {
          "output_type": "stream",
          "name": "stdout",
          "text": []
        }
      ]
    },
    {
      "cell_type": "code",
      "source": [
        "def run_streamlit():\n",
        "  os.system('streamlit run /content/multiple-disease-prediction-streamlit-app/app.py --server.port 8501')"
      ],
      "metadata": {
        "id": "-FjE0Y6UQCa6"
      },
      "execution_count": 6,
      "outputs": []
    },
    {
      "cell_type": "code",
      "source": [
        "# starting the thread to run streamlit app\n",
        "thread=Thread(target=run_streamlit)\n",
        "thread.start()"
      ],
      "metadata": {
        "id": "7l-VjMZVQxfP"
      },
      "execution_count": 7,
      "outputs": []
    },
    {
      "cell_type": "code",
      "metadata": {
        "colab": {
          "base_uri": "https://localhost:8080/"
        },
        "id": "a12a9c0b",
        "outputId": "8b0904aa-9b0b-4589-f303-9a0e5c65eb96"
      },
      "source": [
        "!ngrok update"
      ],
      "execution_count": 8,
      "outputs": [
        {
          "output_type": "stream",
          "name": "stdout",
          "text": [
            "\u001b[32mINFO\u001b[0m[08-19|17:07:50] no configuration paths supplied \n",
            "\u001b[33mWARN\u001b[0m[08-19|17:07:50] ngrok config file found at both XDG and legacy locations, using XDG location \u001b[33mxdg_path\u001b[0m=/root/.config/ngrok/ngrok.yml \u001b[33mlegacy_path\u001b[0m=/root/.ngrok2/ngrok.yml\n",
            "\u001b[32mINFO\u001b[0m[08-19|17:07:50] using configuration at default config path \u001b[32mpath\u001b[0m=/root/.config/ngrok/ngrok.yml\n",
            "\u001b[32mINFO\u001b[0m[08-19|17:07:50] open config file                         \u001b[32mpath\u001b[0m=/root/.config/ngrok/ngrok.yml \u001b[32merr\u001b[0m=nil\n",
            "No update available, this is the latest version.\n"
          ]
        }
      ]
    },
    {
      "cell_type": "code",
      "source": [
        "!pip install --upgrade pyngrok"
      ],
      "metadata": {
        "colab": {
          "base_uri": "https://localhost:8080/"
        },
        "id": "OW1r9D9nSnkX",
        "outputId": "edee4d8e-0055-44c4-8dc4-9eb657551311"
      },
      "execution_count": 9,
      "outputs": [
        {
          "output_type": "stream",
          "name": "stdout",
          "text": [
            "Requirement already satisfied: pyngrok in /usr/local/lib/python3.12/dist-packages (7.3.0)\n",
            "Requirement already satisfied: PyYAML>=5.1 in /usr/local/lib/python3.12/dist-packages (from pyngrok) (6.0.2)\n"
          ]
        }
      ]
    },
    {
      "cell_type": "code",
      "source": [
        "# open a tunnel to the streamlit port 8501\n",
        "public_url=ngrok.connect(addr='8501' , proto='http')"
      ],
      "metadata": {
        "id": "ImMc368wTa8p"
      },
      "execution_count": 12,
      "outputs": []
    },
    {
      "cell_type": "code",
      "source": [
        "print(\"your streamlit app is live at: \" , public_url)"
      ],
      "metadata": {
        "colab": {
          "base_uri": "https://localhost:8080/"
        },
        "id": "-X3lSN9pS_eu",
        "outputId": "28aab77a-e014-477f-fcd0-860c8866a81f"
      },
      "execution_count": 13,
      "outputs": [
        {
          "output_type": "stream",
          "name": "stdout",
          "text": [
            "your streamlit app is live at:  NgrokTunnel: \"https://da2c80bbc95c.ngrok-free.app\" -> \"http://localhost:8501\"\n"
          ]
        }
      ]
    },
    {
      "cell_type": "code",
      "source": [
        "ngrok.kill()"
      ],
      "metadata": {
        "id": "VdScmVIpTNmD"
      },
      "execution_count": 14,
      "outputs": []
    },
    {
      "cell_type": "code",
      "source": [],
      "metadata": {
        "id": "K313x0P2Ufa8"
      },
      "execution_count": null,
      "outputs": []
    }
  ]
}